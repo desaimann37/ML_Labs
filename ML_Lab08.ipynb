{
  "nbformat": 4,
  "nbformat_minor": 0,
  "metadata": {
    "colab": {
      "provenance": []
    },
    "kernelspec": {
      "name": "python3",
      "display_name": "Python 3"
    },
    "language_info": {
      "name": "python"
    }
  },
  "cells": [
    {
      "cell_type": "code",
      "execution_count": 1,
      "metadata": {
        "id": "F71DXWt307M4"
      },
      "outputs": [],
      "source": [
        "\"\"\"\n",
        "  Author : Mann Desai\n",
        "  Subject : ML(SEM_6)\n",
        "  Topic : Linear, Logistic Regression\n",
        "  Lab : 08\n",
        "\"\"\"\n",
        "\n",
        "# Lab 08 : Linear Regression using Torch :\n",
        "import numpy as np\n",
        "import torch\n",
        "from torch.utils.data import TensorDataset, DataLoader\n",
        "import torch.nn as nn\n",
        "import matplotlib.pyplot as plt"
      ]
    },
    {
      "cell_type": "code",
      "source": [
        "inputs = np.array([[73, 67, 43], [91, 88, 64], [87, 134, 58], [102, 43, 37], [69, 96, 70]], dtype='float32')"
      ],
      "metadata": {
        "id": "S_BCNhLo1AHQ"
      },
      "execution_count": null,
      "outputs": []
    },
    {
      "cell_type": "code",
      "source": [
        "targets = np.array([[56],[81],[119],[22],[103]], dtype='float32')"
      ],
      "metadata": {
        "id": "h72nIo8s1AD0"
      },
      "execution_count": null,
      "outputs": []
    },
    {
      "cell_type": "code",
      "source": [
        " # Convert inputs and targets to tensors\n",
        "input_tensor = torch.tensor(inputs)\n",
        "target_tensor = torch.tensor(targets)\n",
        "\n",
        "print(type(input_tensor))\n",
        "print(type(inputs))\n",
        "print(type(target_tensor))\n",
        "\n",
        "\n",
        "# We need to take those random values of weight and biases so that their mean=0 and std=1 so that normalization can be performed.\n",
        "w = torch.randn(1,3, requires_grad=True)\n",
        "b = torch.randn(1,requires_grad=True)\n",
        "\n",
        "def LinearModel(x):\n",
        "  return x @ w.t() + b\n",
        "\n",
        "pred = LinearModel(input_tensor)\n",
        "print(pred)\n",
        "\n",
        "def MSELoss(a, b):\n",
        "  diff = a - b\n",
        "  return torch.sum(diff * diff)/diff.numel()\n",
        "\n",
        "learning_rate = 0.0000001\n",
        "losses = []\n",
        "\n",
        "\n",
        "# 1000 epochs :\n",
        "for i in range(1000):\n",
        "  preds = LinearModel(input_tensor)\n",
        "  loss = MSELoss(preds, target_tensor)\n",
        "  # print(loss.size())\n",
        "  # print(loss)\n",
        "  loss.backward()\n",
        "  with torch.no_grad():\n",
        "    w -= w.grad * learning_rate\n",
        "    b -= b.grad * learning_rate\n",
        "    # we need to zero every time we calculated gradient.\n",
        "    w.grad.zero_()\n",
        "    b.grad.zero_()\n",
        "\n",
        "  losses.append(loss.item())\n",
        "\n",
        "plt.plot(range(1000), losses)\n",
        "plt.xlabel('Epochs')\n",
        "plt.ylabel('Loss')\n",
        "plt.title('Loss vs Epochs')\n",
        "plt.show()\n",
        "\n",
        "\n",
        "#Calculate Loss :\n",
        "preds = LinearModel(input_tensor)\n",
        "loss = MSELoss(preds, target_tensor)\n",
        "\n",
        "print(preds)\n",
        "\n"
      ],
      "metadata": {
        "id": "lPat3WXH1AAK",
        "colab": {
          "base_uri": "https://localhost:8080/",
          "height": 709
        },
        "outputId": "dff0309e-c81e-4159-f61b-f69655dc185c"
      },
      "execution_count": null,
      "outputs": [
        {
          "output_type": "stream",
          "name": "stdout",
          "text": [
            "<class 'torch.Tensor'>\n",
            "<class 'numpy.ndarray'>\n",
            "<class 'torch.Tensor'>\n",
            "tensor([[-208.2938],\n",
            "        [-255.0745],\n",
            "        [-258.1687],\n",
            "        [-290.3619],\n",
            "        [-189.4681]], grad_fn=<AddBackward0>)\n"
          ]
        },
        {
          "output_type": "display_data",
          "data": {
            "text/plain": [
              "<Figure size 640x480 with 1 Axes>"
            ],
            "image/png": "[encoded data removed]"
          },
          "metadata": {}
        },
        {
          "output_type": "stream",
          "name": "stdout",
          "text": [
            "tensor([[ 41.1998],\n",
            "        [ 72.0527],\n",
            "        [124.0299],\n",
            "        [-36.5925],\n",
            "        [120.9367]], grad_fn=<AddBackward0>)\n"
          ]
        }
      ]
    },
    {
      "cell_type": "code",
      "source": [
        "# Targets\n",
        "print(targets)\n",
        "\n",
        "#Testing on different values of temprature, rain, humidity :\n",
        "print(\"Prediction : \", LinearModel(torch.tensor([87., 134., 58.])))\n",
        "print(\"Weights after training:\", w)\n",
        "print(\"Bias after training:\", b)\n",
        "print(\"Final Loss after training:\", loss.item())\n",
        "\n"
      ],
      "metadata": {
        "id": "WpTNLOK20_5n",
        "colab": {
          "base_uri": "https://localhost:8080/"
        },
        "outputId": "2015a712-0760-48a2-de1d-d330d3069b8a"
      },
      "execution_count": null,
      "outputs": [
        {
          "output_type": "stream",
          "name": "stdout",
          "text": [
            "[[ 56.]\n",
            " [ 81.]\n",
            " [119.]\n",
            " [ 22.]\n",
            " [103.]]\n",
            "Prediction :  tensor([124.0299], grad_fn=<AddBackward0>)\n",
            "Weights after training: tensor([[-1.3878,  1.1996,  1.4592]], requires_grad=True)\n",
            "Bias after training: tensor([-0.6050], requires_grad=True)\n",
            "Final Loss after training: 815.841796875\n"
          ]
        }
      ]
    },
    {
      "cell_type": "code",
      "source": [
        "# Lab 8_1 : Logistic Regression"
      ],
      "metadata": {
        "id": "U53C66va0_xJ"
      },
      "execution_count": 3,
      "outputs": []
    },
    {
      "cell_type": "code",
      "source": [
        "from google.colab import drive\n",
        "import pandas as pd\n",
        "from sklearn.model_selection import train_test_split\n",
        "\n",
        "drive.mount('/content/drive')\n",
        "data = pd.read_csv('/content/drive/MyDrive/Machine_Learning/BuyComputer.csv')\n",
        "print(data.head)"
      ],
      "metadata": {
        "id": "2cT7P0VZ0_qj",
        "colab": {
          "base_uri": "https://localhost:8080/"
        },
        "outputId": "23cf1850-6cef-4a84-85ae-a0b8877f7953"
      },
      "execution_count": 81,
      "outputs": [
        {
          "output_type": "stream",
          "name": "stdout",
          "text": [
            "Drive already mounted at /content/drive; to attempt to forcibly remount, call drive.mount(\"/content/drive\", force_remount=True).\n",
            "<bound method NDFrame.head of       User ID  Age  EstimatedSalary  Purchased\n",
            "0    15624510   19            19000          0\n",
            "1    15810944   35            20000          0\n",
            "2    15668575   26            43000          0\n",
            "3    15603246   27            57000          0\n",
            "4    15804002   19            76000          0\n",
            "..        ...  ...              ...        ...\n",
            "395  15691863   46            41000          1\n",
            "396  15706071   51            23000          1\n",
            "397  15654296   50            20000          1\n",
            "398  15755018   36            33000          0\n",
            "399  15594041   49            36000          1\n",
            "\n",
            "[400 rows x 4 columns]>\n"
          ]
        }
      ]
    },
    {
      "cell_type": "code",
      "source": [
        "import numpy as np\n",
        "import pandas as pd\n",
        "from sklearn.model_selection import train_test_split\n",
        "from sklearn.preprocessing import StandardScaler\n",
        "from sklearn.metrics import accuracy_score, precision_score, recall_score\n",
        "import matplotlib.pyplot as plt\n",
        "\n",
        "X = data.drop(columns=['User ID', 'Purchased'])\n",
        "y = data['Purchased']\n",
        "X_train, X_test, y_train, y_test = train_test_split(X, y, test_size=0.2, random_state=68)\n",
        "\n",
        "sc = StandardScaler()\n",
        "X_train = sc.fit_transform(X_train)\n",
        "X_test = sc.transform(X_test)\n",
        "\n",
        "np.random.seed(123)  # Setting random seed\n",
        "len_x = len(X_train[0])\n",
        "w = np.random.rand(len_x)\n",
        "b = 0.2\n",
        "\n",
        "def sigmoid(z):\n",
        "    return 1 / (1 + np.exp(-z))\n",
        "\n",
        "def predict(inputs):\n",
        "    return sigmoid(np.dot(inputs, w) + b)\n",
        "\n",
        "def loss_func(y, a):\n",
        "    J = -(y * np.log(a) + (1 - y) * np.log(1 - a)).mean()\n",
        "    return J\n",
        "\n",
        "alpha = 0.1  # Learning rate\n",
        "losses = []\n",
        "for epoch in range(3000):\n",
        "    z = np.dot(X_train, w) + b\n",
        "    a = sigmoid(z)\n",
        "    J = loss_func(y_train, a)\n",
        "    losses.append(J)\n",
        "    dz = a - y_train\n",
        "    dw = np.dot(X_train.T, dz) / len(X_train)\n",
        "    db = np.sum(dz) / len(X_train)\n",
        "    w -= alpha * dw\n",
        "    b -= alpha * db\n",
        "\n",
        "y_pred = predict(X_test)\n",
        "\n",
        "y_pred_binary = (y_pred >= 0.5).astype(int)\n",
        "\n",
        "accuracy = accuracy_score(y_test, y_pred_binary)\n",
        "print(\"Accuracy:\", accuracy)\n",
        "\n",
        "precision = precision_score(y_test, y_pred_binary)\n",
        "print(\"Precision:\", precision)\n",
        "\n",
        "recall = recall_score(y_test, y_pred_binary)\n",
        "print(\"Recall:\", recall)\n",
        "\n",
        "plt.plot(range(3000), losses)\n",
        "plt.xlabel('Epochs')\n",
        "plt.ylabel('Training Loss')\n",
        "plt.title('Number of Epochs vs Training Loss')\n",
        "plt.show()"
      ],
      "metadata": {
        "colab": {
          "base_uri": "https://localhost:8080/",
          "height": 527
        },
        "id": "Qpdfr_nK7jhw",
        "outputId": "0af3fb48-4acb-4801-ac1a-282740af1e6f"
      },
      "execution_count": 89,
      "outputs": [
        {
          "output_type": "stream",
          "name": "stdout",
          "text": [
            "Accuracy: 0.8875\n",
            "Precision: 0.9230769230769231\n",
            "Recall: 0.7741935483870968\n"
          ]
        },
        {
          "output_type": "display_data",
          "data": {
            "text/plain": [
              "<Figure size 640x480 with 1 Axes>"
            ],
            "image/png": "[encoded data removed]"
          },
          "metadata": {}
        }
      ]
    },
    {
      "cell_type": "code",
      "source": [
        "#Testing on 28 years age, 76000 salary whether that person purchase or not?\n",
        "\n",
        "new_data = np.array([[28, 76000]])\n",
        "new_scaled_data = sc.transform(new_data)\n",
        "prediction = predict(new_scaled_data)\n",
        "print(\"probability of purchase : \", prediction)\n",
        "\n",
        "if prediction >= 0.5:\n",
        "  print(\"The person is predicted to purchase computer\")\n",
        "else:\n",
        "  print(\"The person is predicted not to purchase computer\")"
      ],
      "metadata": {
        "colab": {
          "base_uri": "https://localhost:8080/"
        },
        "id": "sSPoCXm87jeT",
        "outputId": "58688020-4c79-4a86-ef0f-e6feb2d3609a"
      },
      "execution_count": 90,
      "outputs": [
        {
          "output_type": "stream",
          "name": "stdout",
          "text": [
            "probability of purchase :  [0.04858055]\n",
            "The person is predicted not to purchase computer\n"
          ]
        },
        {
          "output_type": "stream",
          "name": "stderr",
          "text": [
            "/usr/local/lib/python3.10/dist-packages/sklearn/base.py:439: UserWarning: X does not have valid feature names, but StandardScaler was fitted with feature names\n",
            "  warnings.warn(\n"
          ]
        }
      ]
    },
    {
      "cell_type": "code",
      "source": [
        "#Using Sklearn inbuilt Logistic regression :\n",
        "from sklearn.linear_model import LogisticRegression\n",
        "\n",
        "model = LogisticRegression(random_state=68)\n",
        "model.fit(X_train, y_train)\n",
        "\n",
        "y_pred = model.predict(X_test)\n",
        "\n",
        "accuracy = accuracy_score(y_test, y_pred)\n",
        "print(\"Accuracy:\", accuracy)\n",
        "\n",
        "precision = precision_score(y_test, y_pred)\n",
        "print(\"Precision:\", precision)\n",
        "\n",
        "recall = recall_score(y_test, y_pred)\n",
        "print(\"Recall:\", recall)\n",
        "\n",
        "# Make predictions using the trained model\n",
        "new_data = np.array([[28, 76000]])\n",
        "\n",
        "new_data_scaled = sc.transform(new_data)\n",
        "prediction = model.predict(new_data_scaled)\n",
        "print(\"Prediction:\", prediction)\n",
        "\n",
        "if prediction == 1:\n",
        "    print(\"The person is predicted to purchase a computer.\")\n",
        "else:\n",
        "    print(\"The person is predicted not to purchase a computer.\")"
      ],
      "metadata": {
        "colab": {
          "base_uri": "https://localhost:8080/"
        },
        "id": "SFG2G0MuV5gr",
        "outputId": "780448fb-4d4b-455c-aa1f-3da5fe2b1314"
      },
      "execution_count": 92,
      "outputs": [
        {
          "output_type": "stream",
          "name": "stdout",
          "text": [
            "Accuracy: 0.8875\n",
            "Precision: 0.9230769230769231\n",
            "Recall: 0.7741935483870968\n",
            "Prediction: [0]\n",
            "The person is predicted not to purchase a computer.\n"
          ]
        },
        {
          "output_type": "stream",
          "name": "stderr",
          "text": [
            "/usr/local/lib/python3.10/dist-packages/sklearn/base.py:439: UserWarning: X does not have valid feature names, but StandardScaler was fitted with feature names\n",
            "  warnings.warn(\n"
          ]
        }
      ]
    },
    {
      "cell_type": "code",
      "source": [],
      "metadata": {
        "id": "3Bi5vioMV5eW"
      },
      "execution_count": null,
      "outputs": []
    },
    {
      "cell_type": "code",
      "source": [],
      "metadata": {
        "id": "Q7W2K7gnV5bK"
      },
      "execution_count": null,
      "outputs": []
    },
    {
      "cell_type": "code",
      "source": [],
      "metadata": {
        "id": "zaKZnhm5V5Yj"
      },
      "execution_count": null,
      "outputs": []
    }
  ]
}