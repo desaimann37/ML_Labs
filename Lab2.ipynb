{
  "nbformat": 4,
  "nbformat_minor": 0,
  "metadata": {
    "colab": {
      "provenance": []
    },
    "kernelspec": {
      "name": "python3",
      "display_name": "Python 3"
    },
    "language_info": {
      "name": "python"
    }
  },
  "cells": [
    {
      "cell_type": "code",
      "source": [
        "#Assignment(Lab02) :\n",
        "\n",
        "#1) Perform all data preprocessing tasks and feature selection on \"Exercise-CarData.csv\"\n",
        "\n",
        "\n",
        "from google.colab import drive\n",
        "import pandas as pd\n",
        "from sklearn.preprocessing import LabelEncoder\n",
        "from sklearn.impute import SimpleImputer\n",
        "import numpy as np\n",
        "\n",
        "\n",
        "drive.mount(\"/content/drive\")\n",
        "dataset = pd.read_csv(\"/content/drive/MyDrive/Machine_Learning/Exercise-CarData-New.csv\")\n",
        "\n",
        "# print(dataset)\n",
        "\n",
        "dataset.replace('????' , np.nan , inplace = True)\n",
        "dataset.dropna(axis=0 , how='all' , inplace=True)\n",
        "\n",
        "# dataset.info()\n",
        "\n",
        "X = dataset.iloc[: , 2:]\n",
        "y = dataset.iloc[: , 1]\n",
        "# print(X)\n",
        "# print(y)\n",
        "\n",
        "#Age , FuelType , MetColor\n",
        "\n",
        "dataset['Age'] = dataset['Age'].fillna(dataset['Age'].mean())\n",
        "# cnt = dataset['FuelType'].nunique()\n",
        "# print(cnt)\n",
        "\n",
        "dataset['KM'] = pd.to_numeric(dataset['KM'] , errors='coerce')\n",
        "# print(dataset.iloc[6: , :4].values)\n",
        "\n",
        "imputer = SimpleImputer(missing_values=np.nan , strategy=\"most_frequent\")\n",
        "imputer = imputer.fit(dataset)\n",
        "\n",
        "dataset = imputer.transform(dataset)\n",
        "dataset[7: , :5]\n",
        "# print(dataset)\n",
        "\n",
        "\n",
        "\n"
      ],
      "metadata": {
        "colab": {
          "base_uri": "https://localhost:8080/"
        },
        "id": "zTSaFlMDXVzE",
        "outputId": "f2013080-d711-4526-e377-9199d5d6f879"
      },
      "execution_count": null,
      "outputs": [
        {
          "output_type": "stream",
          "name": "stdout",
          "text": [
            "Drive already mounted at /content/drive; to attempt to forcibly remount, call drive.mount(\"/content/drive\", force_remount=True).\n"
          ]
        },
        {
          "output_type": "execute_result",
          "data": {
            "text/plain": [
              "array([[7, 18600, 30.0, 75889.0, 'Petrol'],\n",
              "       [8, 21500, 27.0, 19700.0, 'Petrol'],\n",
              "       [9, 12950, 23.0, 71138.0, 'Diesel'],\n",
              "       ...,\n",
              "       [1433, 8500, 55.67215568862275, 17016.0, 'Petrol'],\n",
              "       [1434, 7250, 70.0, 1.0, 'Petrol'],\n",
              "       [1435, 6950, 76.0, 1.0, 'Petrol']], dtype=object)"
            ]
          },
          "metadata": {},
          "execution_count": 8
        }
      ]
    },
    {
      "cell_type": "code",
      "execution_count": null,
      "metadata": {
        "id": "jiBAW3JClm7M"
      },
      "outputs": [],
      "source": [
        "#Practical :\n",
        "\n",
        "\n",
        "#1 . Data Pre processing :\n",
        "\n",
        "from google.colab import drive\n",
        "import pandas as pd\n",
        "import numpy as np\n",
        "from sklearn.impute import SimpleImputer\n",
        "\n",
        "#Handle Missing Values in dataset :\n",
        "\n",
        "dataset = pd.read_csv('/content/drive/MyDrive/Machine_Learning/Lab02/Data_for_Missing_Values.csv')\n",
        "\n",
        "X = dataset.iloc[: , :-1].values\n",
        "\n",
        "y = dataset.iloc[: , -1].values\n",
        "\n",
        "dataset.dropna(axis=0 , how='all' , inplace=True)\n",
        "# print(dataset)\n",
        "\n",
        "updated_df = dataset\n",
        "updated_df['Age'] = updated_df['Age'].fillna(updated_df['Age'].mean())\n",
        "\n",
        "\n",
        "updated_df['Salary'] = updated_df['Salary'].fillna(updated_df['Salary'].mean())\n",
        "# print(updated_df)\n",
        "\n",
        "new_X = dataset.iloc[: , :-1].values\n",
        "new_y = dataset.iloc[: , -1].values\n",
        "\n",
        "#imputation :\n",
        "imputer = SimpleImputer(missing_values = np.nan , strategy=\"mean\")\n",
        "\n",
        "imputer = imputer.fit(new_X[: , 1:3])\n",
        "\n",
        "new_X[: , 1:3] = imputer.transform(new_X[: , 1:3])\n",
        "# print(new_X)\n",
        "\n",
        "\n"
      ]
    },
    {
      "cell_type": "code",
      "source": [
        "#2 . Data Transformation :\n",
        "\n",
        "from google.colab import drive\n",
        "import pandas as pd\n",
        "import numpy as np\n",
        "from sklearn.impute import SimpleImputer\n",
        "from sklearn.preprocessing import MinMaxScaler , StandardScaler , RobustScaler\n",
        "\n",
        "\n",
        "#Handle Missing Values in dataset :\n",
        "\n",
        "dataset = pd.read_csv('/content/drive/MyDrive/Machine_Learning/Lab02/Data_for_Transformation.csv')\n",
        "\n",
        "# print(dataset)\n",
        "X = dataset.iloc[: , :-1].values\n",
        "y = dataset.iloc[: , -1].values\n",
        "\n",
        "X_new = dataset.iloc[: , 1:3].values\n",
        "# print(X_new)\n",
        "\n",
        "#To get data range between 0-1 We need MinMaxScaler :\n",
        "scaler = MinMaxScaler()\n",
        "\n",
        "X_scaled = scaler.fit_transform(X_new)\n",
        "# print(X_scaled)\n",
        "\n",
        "std = StandardScaler()\n",
        "X_std = std.fit_transform(X_new)\n",
        "\n",
        "print(X_std)\n",
        "\n",
        "# Other type of method called RobustScaler :\n",
        "# Use of RobustScaler : Outliers can negatively influence the standard scaling of an input. Here's why we should use robust scaling instead.\n",
        "# How far is each data point from the input’s median\n",
        "\n",
        "# ScaledValue = (OriginalValue - Input's Median)/Input's IQR\n",
        "\n",
        "# Therefore, both median and IQR are pretty resistant to outliers.\n",
        "\n",
        "data = np.random.normal(0 , 15 , 30)\n",
        "data_df = pd.DataFrame({\"data\" : data})\n",
        "\n",
        "robust_scaler = RobustScaler()\n",
        "\n",
        "robust_scaler.fit(data_df)\n",
        "\n",
        "robust_scaled_data = robust_scaler.transform(data_df)\n",
        "\n",
        "# Comparing both standard and robust scaled values :\n",
        "\n",
        "std_scaler = StandardScaler()\n",
        "\n",
        "std_scaled_data = std_scaler.fit_transform(data_df)\n",
        "\n",
        "scaled_values = pd.DataFrame({\n",
        "    'Standard' : std_scaled_data.reshape(-1),\n",
        "    'Robust' : robust_scaled_data.reshape(-1)\n",
        "})\n",
        "print(scaled_values)\n",
        "\n",
        "\n",
        "\n",
        "\n",
        "\n",
        "\n",
        "\n"
      ],
      "metadata": {
        "colab": {
          "base_uri": "https://localhost:8080/"
        },
        "id": "_hlU2n4Xo7jk",
        "outputId": "b8c4e55c-500d-4f01-a035-800d28f84266"
      },
      "execution_count": null,
      "outputs": [
        {
          "output_type": "stream",
          "name": "stdout",
          "text": [
            "[[ 0.68188156  0.79548755]\n",
            " [-1.81835082 -1.41513049]\n",
            " [-1.37713334 -0.86247598]\n",
            " [-0.2005534  -0.21771238]\n",
            " [ 0.09359159  0.42705121]\n",
            " [-0.64177088 -0.49403964]\n",
            " [-0.05348091 -1.04669415]\n",
            " [ 1.27017153  1.44025115]\n",
            " [ 1.56431652  1.80868749]\n",
            " [-0.34762589  0.33494213]\n",
            " [ 0.82895405 -0.77036689]]\n",
            "    Standard    Robust\n",
            "0  -0.558942 -0.618769\n",
            "1  -0.197942 -0.300175\n",
            "2  -0.622169 -0.674569\n",
            "3  -0.342339 -0.427610\n",
            "4  -1.601053 -1.538467\n",
            "5   0.544853  0.355366\n",
            "6   1.007331  0.763518\n",
            "7   1.334419  1.052184\n",
            "8  -1.027261 -1.032077\n",
            "9  -0.623658 -0.675883\n",
            "10  0.590126  0.395320\n",
            "11  0.681192  0.475689\n",
            "12  0.282969  0.124245\n",
            "13  1.833459  1.492603\n",
            "14  0.641040  0.440254\n",
            "15 -0.178345 -0.282880\n",
            "16  0.177525  0.031187\n",
            "17  0.218284  0.067158\n",
            "18  1.244301  0.972652\n",
            "19  1.079126  0.826879\n",
            "20 -0.143287 -0.251940\n",
            "21 -2.864875 -2.653831\n",
            "22 -1.462251 -1.415969\n",
            "23 -0.065527 -0.183314\n",
            "24  0.544109  0.354709\n",
            "25  0.257550  0.101812\n",
            "26 -1.640588 -1.573357\n",
            "27  0.106850 -0.031187\n",
            "28 -0.244482 -0.341248\n",
            "29  1.029583  0.783156\n"
          ]
        }
      ]
    },
    {
      "cell_type": "code",
      "source": [
        "# 3 . Handling Categorical Data :\n",
        "\n",
        "\n",
        "from google.colab import drive\n",
        "import pandas as pd\n",
        "import numpy as np\n",
        "from sklearn.impute import SimpleImputer\n",
        "from sklearn.preprocessing import MinMaxScaler , StandardScaler , RobustScaler\n",
        "from sklearn.preprocessing import LabelEncoder , OneHotEncoder\n",
        "\n",
        "#Handle Missing Values in dataset :\n",
        "\n",
        "dataset = pd.read_csv('/content/drive/MyDrive/Machine_Learning/Lab02/Data_for_Categorical_Values.csv')\n",
        "\n",
        "# print(dataset)\n",
        "\n",
        "X = dataset.iloc[: , :-1].values\n",
        "y = dataset.iloc[: , -1].values\n",
        "\n",
        "le = LabelEncoder()\n",
        "X[: , 0] = le.fit_transform(X[: , 0])\n",
        "# print(X)\n",
        "\n",
        "\n",
        "# Method : 1(Implementing LabelEncoding)\n",
        "dummy = pd.get_dummies(dataset['Country'])\n",
        "# print(dummy)\n",
        "\n",
        "# dataset = dataset.drop(['Country' , 'Purchased'] , axis=1)\n",
        "# dataset = pd.concat([dummy , dataset] , axis=1)\n",
        "# print(dataset)\n",
        "\n",
        "#Method : 2(for same)\n",
        "onehotencoder = OneHotEncoder()\n",
        "\n",
        "X = onehotencoder.fit_transform(dataset.Country.values.reshape(-1 , 1)).toarray()\n",
        "# print(X)\n",
        "dfOneHot = pd.DataFrame(X , columns=[\"Country_\" + str(int(i)) for i in range(dataset.shape[1]-1)])\n",
        "\n",
        "df = pd.concat([dataset , dfOneHot] , axis=1)\n",
        "df = df.drop(['Country'] , axis=1)\n",
        "print(df.head())\n",
        "\n"
      ],
      "metadata": {
        "colab": {
          "base_uri": "https://localhost:8080/"
        },
        "id": "2SkXIZKn2T5b",
        "outputId": "c605a765-e481-4a10-a1ad-85b5da27b8ff"
      },
      "execution_count": null,
      "outputs": [
        {
          "output_type": "stream",
          "name": "stdout",
          "text": [
            "   Age  Salary Purchased  Country_0  Country_1  Country_2\n",
            "0   44   72000        No        1.0        0.0        0.0\n",
            "1   27   48000       Yes        0.0        0.0        1.0\n",
            "2   30   54000        No        0.0        1.0        0.0\n",
            "3   38   61000        No        0.0        0.0        1.0\n",
            "4   40   68000       Yes        0.0        1.0        0.0\n"
          ]
        }
      ]
    },
    {
      "cell_type": "code",
      "source": [
        "#4.Correlation :\n",
        "import seaborn as sns\n",
        "import pandas as pd\n",
        "import numpy as np\n",
        "\n",
        "\n",
        "dataset = pd.read_csv('/content/drive/MyDrive/Machine_Learning/Lab02/Data_for_Correlation.csv')\n",
        "# dataset.head()\n",
        "\n",
        "dataset = dataset.iloc[: , :-1]\n",
        "\n",
        "corr = dataset.corr()\n",
        "# corr.head()\n",
        "\n",
        "sns.heatmap(corr)\n",
        "\n",
        "#removing one of two features that have a correlation higher than 0.9\n",
        "\n",
        "columns = np.full((corr.shape[0] , ) , True , dtype=bool)\n",
        "\n",
        "for i in range(corr.shape[0]):\n",
        "  for j in range(i+1 , corr.shape[0]):\n",
        "    if corr.iloc[i , j] >= 0.9\n",
        "      if columns[j]:\n",
        "        columns[j] = False\n",
        "\n",
        "selected_columns = data.columns[columns]\n",
        "selecte\n",
        "\n",
        "\n"
      ],
      "metadata": {
        "colab": {
          "base_uri": "https://localhost:8080/",
          "height": 453
        },
        "id": "vJji9jtJ5pry",
        "outputId": "5f86c36d-50ba-4c1c-e1d5-4353d6a84450"
      },
      "execution_count": null,
      "outputs": [
        {
          "output_type": "execute_result",
          "data": {
            "text/plain": [
              "<Axes: >"
            ]
          },
          "metadata": {},
          "execution_count": 19
        },
        {
          "output_type": "display_data",
          "data": {
            "text/plain": [
              "<Figure size 640x480 with 2 Axes>"
            ],
            "image/png": "[encoded data removed]"
          },
          "metadata": {}
        }
      ]
    }
  ]
}